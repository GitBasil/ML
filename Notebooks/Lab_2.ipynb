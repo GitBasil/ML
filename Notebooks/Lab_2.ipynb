{
  "cells": [
    {
      "cell_type": "code",
      "execution_count": 1,
      "metadata": {
        "id": "zMoZztU_NCFv"
      },
      "outputs": [
        {
          "name": "stdout",
          "output_type": "stream",
          "text": [
            "Training Loss: 0.38\n",
            "Training Accuracy: 85.95%\n",
            "Validation Loss: 0.41\n",
            "Validation Accuracy: 83.92%\n",
            "              precision    recall  f1-score   support\n",
            "\n",
            "           0       0.84      1.00      0.91      1007\n",
            "           1       0.00      0.00      0.00       193\n",
            "\n",
            "    accuracy                           0.84      1200\n",
            "   macro avg       0.42      0.50      0.46      1200\n",
            "weighted avg       0.70      0.84      0.77      1200\n",
            "\n"
          ]
        },
        {
          "name": "stderr",
          "output_type": "stream",
          "text": [
            "/Users/baselabubaker/Projects/ai_projects/proj_1/lib/python3.9/site-packages/sklearn/metrics/_classification.py:1344: UndefinedMetricWarning: Precision and F-score are ill-defined and being set to 0.0 in labels with no predicted samples. Use `zero_division` parameter to control this behavior.\n",
            "  _warn_prf(average, modifier, msg_start, len(result))\n",
            "/Users/baselabubaker/Projects/ai_projects/proj_1/lib/python3.9/site-packages/sklearn/metrics/_classification.py:1344: UndefinedMetricWarning: Precision and F-score are ill-defined and being set to 0.0 in labels with no predicted samples. Use `zero_division` parameter to control this behavior.\n",
            "  _warn_prf(average, modifier, msg_start, len(result))\n",
            "/Users/baselabubaker/Projects/ai_projects/proj_1/lib/python3.9/site-packages/sklearn/metrics/_classification.py:1344: UndefinedMetricWarning: Precision and F-score are ill-defined and being set to 0.0 in labels with no predicted samples. Use `zero_division` parameter to control this behavior.\n",
            "  _warn_prf(average, modifier, msg_start, len(result))\n"
          ]
        }
      ],
      "source": [
        "import pandas as pd\n",
        "from sklearn.model_selection import train_test_split\n",
        "from sklearn.preprocessing import LabelEncoder\n",
        "from sklearn.naive_bayes import GaussianNB\n",
        "from sklearn.metrics import accuracy_score, classification_report, log_loss\n",
        "\n",
        "# Load the data\n",
        "df = pd.read_csv('input/ds3.csv')\n",
        "\n",
        "# Convert categorical variables to numeric variables\n",
        "le = LabelEncoder()\n",
        "categorical_cols = df.select_dtypes(include=['object']).columns\n",
        "df[categorical_cols] = df[categorical_cols].apply(lambda col: le.fit_transform(col))\n",
        "\n",
        "# Separate features and target\n",
        "X = df.drop('Response', axis=1)\n",
        "y = df['Response']\n",
        "\n",
        "# Split data into training, validation, and test sets\n",
        "X_train, X_val_test, y_train, y_val_test = train_test_split(X, y, test_size=0.3, random_state=42)\n",
        "X_val, X_test, y_val, y_test = train_test_split(X_val_test, y_val_test, test_size=0.5, random_state=42)\n",
        "\n",
        "# Initialize and fit the model on the training set\n",
        "model = GaussianNB()\n",
        "model.fit(X_train, y_train)\n",
        "\n",
        "# Make predictions on the training set and calculate loss\n",
        "y_pred_train = model.predict(X_train)\n",
        "y_pred_train_proba = model.predict_proba(X_train)\n",
        "train_accuracy = accuracy_score(y_train, y_pred_train)\n",
        "train_loss = log_loss(y_train, y_pred_train_proba)\n",
        "\n",
        "# Make predictions on the validation set and calculate loss\n",
        "y_pred_val = model.predict(X_val)\n",
        "y_pred_val_proba = model.predict_proba(X_val)\n",
        "val_accuracy = accuracy_score(y_val, y_pred_val)\n",
        "val_loss = log_loss(y_val, y_pred_val_proba)\n",
        "\n",
        "# Print training and validation loss and accuracy\n",
        "print(\"Training Loss: %.2f\" % train_loss)\n",
        "print(\"Training Accuracy: %.2f%%\" % (train_accuracy * 100.0))\n",
        "print(\"Validation Loss: %.2f\" % val_loss)\n",
        "print(\"Validation Accuracy: %.2f%%\" % (val_accuracy * 100.0))\n",
        "\n",
        "# Print precision, recall, and F1 score for the validation set\n",
        "print(classification_report(y_val, y_pred_val))\n"
      ]
    }
  ],
  "metadata": {
    "colab": {
      "authorship_tag": "ABX9TyPEBOL39kzFIM22JHYcFqPl",
      "include_colab_link": true,
      "provenance": []
    },
    "kernelspec": {
      "display_name": "My Kernel",
      "language": "python",
      "name": "mykernel"
    },
    "language_info": {
      "codemirror_mode": {
        "name": "ipython",
        "version": 3
      },
      "file_extension": ".py",
      "mimetype": "text/x-python",
      "name": "python",
      "nbconvert_exporter": "python",
      "pygments_lexer": "ipython3",
      "version": "3.9.13"
    }
  },
  "nbformat": 4,
  "nbformat_minor": 0
}
